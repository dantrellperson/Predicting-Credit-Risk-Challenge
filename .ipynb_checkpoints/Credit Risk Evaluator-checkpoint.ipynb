{
 "cells": [
  {
   "cell_type": "code",
   "execution_count": 1,
   "metadata": {},
   "outputs": [],
   "source": [
    "# import dependencies\n",
    "\n",
    "import numpy as np\n",
    "import pandas as pd\n",
    "import matplotlib.pyplot as plt\n",
    "from pathlib import Path\n",
    "import sklearn\n",
    "from sklearn.linear_model import LogisticRegression\n",
    "from sklearn.ensemble import RandomForestClassifier\n",
    "from sklearn.model_selection import train_test_split\n",
    "from sklearn.preprocessing import StandardScaler"
   ]
  },
  {
   "cell_type": "code",
   "execution_count": 2,
   "metadata": {},
   "outputs": [],
   "source": [
    "# Import the data\n",
    "lendingDataCSV = pd.read_csv('Resources/lending_data.csv')"
   ]
  },
  {
   "cell_type": "code",
   "execution_count": 3,
   "metadata": {},
   "outputs": [
    {
     "data": {
      "text/html": [
       "<div>\n",
       "<style scoped>\n",
       "    .dataframe tbody tr th:only-of-type {\n",
       "        vertical-align: middle;\n",
       "    }\n",
       "\n",
       "    .dataframe tbody tr th {\n",
       "        vertical-align: top;\n",
       "    }\n",
       "\n",
       "    .dataframe thead th {\n",
       "        text-align: right;\n",
       "    }\n",
       "</style>\n",
       "<table border=\"1\" class=\"dataframe\">\n",
       "  <thead>\n",
       "    <tr style=\"text-align: right;\">\n",
       "      <th></th>\n",
       "      <th>loan_size</th>\n",
       "      <th>interest_rate</th>\n",
       "      <th>borrower_income</th>\n",
       "      <th>debt_to_income</th>\n",
       "      <th>num_of_accounts</th>\n",
       "      <th>derogatory_marks</th>\n",
       "      <th>total_debt</th>\n",
       "      <th>loan_status</th>\n",
       "    </tr>\n",
       "  </thead>\n",
       "  <tbody>\n",
       "    <tr>\n",
       "      <th>0</th>\n",
       "      <td>10700.0</td>\n",
       "      <td>7.672</td>\n",
       "      <td>52800</td>\n",
       "      <td>0.431818</td>\n",
       "      <td>5</td>\n",
       "      <td>1</td>\n",
       "      <td>22800</td>\n",
       "      <td>0</td>\n",
       "    </tr>\n",
       "    <tr>\n",
       "      <th>1</th>\n",
       "      <td>8400.0</td>\n",
       "      <td>6.692</td>\n",
       "      <td>43600</td>\n",
       "      <td>0.311927</td>\n",
       "      <td>3</td>\n",
       "      <td>0</td>\n",
       "      <td>13600</td>\n",
       "      <td>0</td>\n",
       "    </tr>\n",
       "    <tr>\n",
       "      <th>2</th>\n",
       "      <td>9000.0</td>\n",
       "      <td>6.963</td>\n",
       "      <td>46100</td>\n",
       "      <td>0.349241</td>\n",
       "      <td>3</td>\n",
       "      <td>0</td>\n",
       "      <td>16100</td>\n",
       "      <td>0</td>\n",
       "    </tr>\n",
       "    <tr>\n",
       "      <th>3</th>\n",
       "      <td>10700.0</td>\n",
       "      <td>7.664</td>\n",
       "      <td>52700</td>\n",
       "      <td>0.430740</td>\n",
       "      <td>5</td>\n",
       "      <td>1</td>\n",
       "      <td>22700</td>\n",
       "      <td>0</td>\n",
       "    </tr>\n",
       "    <tr>\n",
       "      <th>4</th>\n",
       "      <td>10800.0</td>\n",
       "      <td>7.698</td>\n",
       "      <td>53000</td>\n",
       "      <td>0.433962</td>\n",
       "      <td>5</td>\n",
       "      <td>1</td>\n",
       "      <td>23000</td>\n",
       "      <td>0</td>\n",
       "    </tr>\n",
       "  </tbody>\n",
       "</table>\n",
       "</div>"
      ],
      "text/plain": [
       "   loan_size  interest_rate  borrower_income  debt_to_income  num_of_accounts  \\\n",
       "0    10700.0          7.672            52800        0.431818                5   \n",
       "1     8400.0          6.692            43600        0.311927                3   \n",
       "2     9000.0          6.963            46100        0.349241                3   \n",
       "3    10700.0          7.664            52700        0.430740                5   \n",
       "4    10800.0          7.698            53000        0.433962                5   \n",
       "\n",
       "   derogatory_marks  total_debt  loan_status  \n",
       "0                 1       22800            0  \n",
       "1                 0       13600            0  \n",
       "2                 0       16100            0  \n",
       "3                 1       22700            0  \n",
       "4                 1       23000            0  "
      ]
     },
     "execution_count": 3,
     "metadata": {},
     "output_type": "execute_result"
    }
   ],
   "source": [
    "# view data\n",
    "lendingDataCSV.head()"
   ]
  },
  {
   "cell_type": "markdown",
   "metadata": {
    "tags": []
   },
   "source": [
    "## I believe borrower_income, debt_to_income will be the major factors in determining loan_status. \n",
    "- In the below cells I attempt to manufacture a feature to use to predict an approved credit status. This is for my own exploration to gauge my understanding of ML.\n",
    "\n",
    "- The scikit learn portion of my homework following the required steps will be below my matplotlib scatter plot"
   ]
  },
  {
   "cell_type": "code",
   "execution_count": 4,
   "metadata": {},
   "outputs": [],
   "source": [
    "# Attempted to create my own feature \n",
    "lendingDataCSV['incomeADJ']= (lendingDataCSV['borrower_income']*lendingDataCSV['debt_to_income']) - (lendingDataCSV['loan_size']/lendingDataCSV['interest_rate'])"
   ]
  },
  {
   "cell_type": "code",
   "execution_count": 5,
   "metadata": {},
   "outputs": [
    {
     "name": "stdout",
     "output_type": "stream",
     "text": [
      "[[10700.0, 21405.318039624617], [8400.0, 12344.76987447698], [9000.0, 14807.453683757005], [10700.0, 21303.862212943626], [10800.0, 21597.038191738095]]\n",
      "[0, 0, 0, 0, 0]\n"
     ]
    }
   ],
   "source": [
    "# create empty list\n",
    "feature = []\n",
    "target = []\n",
    "\n",
    "# for loop to create feature lists to add to above created list\n",
    "\n",
    "for i in range(len(lendingDataCSV)):\n",
    "    featureList = []\n",
    "    loanStatus = ''\n",
    "    \n",
    "    loanStatus = lendingDataCSV.iloc[i,7]\n",
    "    featureList.append(lendingDataCSV.iloc[i,0])\n",
    "    featureList.append(lendingDataCSV.iloc[i,8])\n",
    "    # feature.append(newDF.iloc[i,5])\n",
    "    # feature.append(newDF.iloc[i,6])\n",
    "    # feature.append(newDF.iloc[i,9]) \n",
    "    # feature.append(newDF.iloc[i,8])\n",
    "    \n",
    "    feature.append(featureList)\n",
    "    target.append(loanStatus)\n",
    "    \n",
    "print(feature[:5])\n",
    "print(target[:5])"
   ]
  },
  {
   "cell_type": "code",
   "execution_count": 6,
   "metadata": {},
   "outputs": [
    {
     "data": {
      "text/plain": [
       "array([[10700.        , 21405.31803962],\n",
       "       [ 8400.        , 12344.76987448],\n",
       "       [ 9000.        , 14807.45368376],\n",
       "       ...,\n",
       "       [17600.        , 48638.83907504],\n",
       "       [16300.        , 43681.00913786],\n",
       "       [15600.        , 40698.68610142]])"
      ]
     },
     "execution_count": 6,
     "metadata": {},
     "output_type": "execute_result"
    }
   ],
   "source": [
    "# Turn python lists into numpy arrays\n",
    "features = np.array(feature)\n",
    "targets = np.array(target)\n",
    "features"
   ]
  },
  {
   "cell_type": "code",
   "execution_count": 7,
   "metadata": {},
   "outputs": [
    {
     "data": {
      "text/plain": [
       "7263.7159308212895"
      ]
     },
     "execution_count": 7,
     "metadata": {},
     "output_type": "execute_result"
    }
   ],
   "source": [
    "# finding standard deviation and mean of each column\n",
    "featureSTDEV = features.std()\n",
    "featureAVG = np.average(features)\n",
    "featureSTDEV"
   ]
  },
  {
   "cell_type": "code",
   "execution_count": 8,
   "metadata": {},
   "outputs": [
    {
     "data": {
      "text/html": [
       "<div>\n",
       "<style scoped>\n",
       "    .dataframe tbody tr th:only-of-type {\n",
       "        vertical-align: middle;\n",
       "    }\n",
       "\n",
       "    .dataframe tbody tr th {\n",
       "        vertical-align: top;\n",
       "    }\n",
       "\n",
       "    .dataframe thead th {\n",
       "        text-align: right;\n",
       "    }\n",
       "</style>\n",
       "<table border=\"1\" class=\"dataframe\">\n",
       "  <thead>\n",
       "    <tr style=\"text-align: right;\">\n",
       "      <th></th>\n",
       "      <th>0</th>\n",
       "      <th>1</th>\n",
       "      <th>loan_status</th>\n",
       "    </tr>\n",
       "  </thead>\n",
       "  <tbody>\n",
       "    <tr>\n",
       "      <th>0</th>\n",
       "      <td>-0.433298</td>\n",
       "      <td>1.040510</td>\n",
       "      <td>0</td>\n",
       "    </tr>\n",
       "    <tr>\n",
       "      <th>1</th>\n",
       "      <td>-0.749940</td>\n",
       "      <td>-0.206861</td>\n",
       "      <td>0</td>\n",
       "    </tr>\n",
       "    <tr>\n",
       "      <th>2</th>\n",
       "      <td>-0.667338</td>\n",
       "      <td>0.132178</td>\n",
       "      <td>0</td>\n",
       "    </tr>\n",
       "    <tr>\n",
       "      <th>3</th>\n",
       "      <td>-0.433298</td>\n",
       "      <td>1.026542</td>\n",
       "      <td>0</td>\n",
       "    </tr>\n",
       "    <tr>\n",
       "      <th>4</th>\n",
       "      <td>-0.419531</td>\n",
       "      <td>1.066904</td>\n",
       "      <td>0</td>\n",
       "    </tr>\n",
       "    <tr>\n",
       "      <th>...</th>\n",
       "      <td>...</td>\n",
       "      <td>...</td>\n",
       "      <td>...</td>\n",
       "    </tr>\n",
       "    <tr>\n",
       "      <th>77531</th>\n",
       "      <td>0.723135</td>\n",
       "      <td>5.652276</td>\n",
       "      <td>1</td>\n",
       "    </tr>\n",
       "    <tr>\n",
       "      <th>77532</th>\n",
       "      <td>0.530396</td>\n",
       "      <td>4.872513</td>\n",
       "      <td>1</td>\n",
       "    </tr>\n",
       "    <tr>\n",
       "      <th>77533</th>\n",
       "      <td>0.516629</td>\n",
       "      <td>4.789764</td>\n",
       "      <td>1</td>\n",
       "    </tr>\n",
       "    <tr>\n",
       "      <th>77534</th>\n",
       "      <td>0.337658</td>\n",
       "      <td>4.107217</td>\n",
       "      <td>1</td>\n",
       "    </tr>\n",
       "    <tr>\n",
       "      <th>77535</th>\n",
       "      <td>0.241288</td>\n",
       "      <td>3.696639</td>\n",
       "      <td>1</td>\n",
       "    </tr>\n",
       "  </tbody>\n",
       "</table>\n",
       "<p>77536 rows × 3 columns</p>\n",
       "</div>"
      ],
      "text/plain": [
       "              0         1  loan_status\n",
       "0     -0.433298  1.040510            0\n",
       "1     -0.749940 -0.206861            0\n",
       "2     -0.667338  0.132178            0\n",
       "3     -0.433298  1.026542            0\n",
       "4     -0.419531  1.066904            0\n",
       "...         ...       ...          ...\n",
       "77531  0.723135  5.652276            1\n",
       "77532  0.530396  4.872513            1\n",
       "77533  0.516629  4.789764            1\n",
       "77534  0.337658  4.107217            1\n",
       "77535  0.241288  3.696639            1\n",
       "\n",
       "[77536 rows x 3 columns]"
      ]
     },
     "execution_count": 8,
     "metadata": {},
     "output_type": "execute_result"
    }
   ],
   "source": [
    "# create a dataframe with normalized features \n",
    "featuresNORM = (features - featureAVG)/featureSTDEV\n",
    "df = pd.DataFrame(data = featuresNORM)\n",
    "df['loan_status'] = targets\n",
    "df"
   ]
  },
  {
   "cell_type": "code",
   "execution_count": 9,
   "metadata": {},
   "outputs": [
    {
     "data": {
      "text/html": [
       "<div>\n",
       "<style scoped>\n",
       "    .dataframe tbody tr th:only-of-type {\n",
       "        vertical-align: middle;\n",
       "    }\n",
       "\n",
       "    .dataframe tbody tr th {\n",
       "        vertical-align: top;\n",
       "    }\n",
       "\n",
       "    .dataframe thead th {\n",
       "        text-align: right;\n",
       "    }\n",
       "</style>\n",
       "<table border=\"1\" class=\"dataframe\">\n",
       "  <thead>\n",
       "    <tr style=\"text-align: right;\">\n",
       "      <th></th>\n",
       "      <th>0</th>\n",
       "      <th>1</th>\n",
       "    </tr>\n",
       "  </thead>\n",
       "  <tbody>\n",
       "    <tr>\n",
       "      <th>75036</th>\n",
       "      <td>0.668067</td>\n",
       "      <td>5.419455</td>\n",
       "    </tr>\n",
       "    <tr>\n",
       "      <th>75037</th>\n",
       "      <td>0.557931</td>\n",
       "      <td>4.967850</td>\n",
       "    </tr>\n",
       "    <tr>\n",
       "      <th>75038</th>\n",
       "      <td>0.612999</td>\n",
       "      <td>5.186609</td>\n",
       "    </tr>\n",
       "    <tr>\n",
       "      <th>75039</th>\n",
       "      <td>0.668067</td>\n",
       "      <td>5.433348</td>\n",
       "    </tr>\n",
       "    <tr>\n",
       "      <th>75040</th>\n",
       "      <td>0.434027</td>\n",
       "      <td>4.475602</td>\n",
       "    </tr>\n",
       "  </tbody>\n",
       "</table>\n",
       "</div>"
      ],
      "text/plain": [
       "              0         1\n",
       "75036  0.668067  5.419455\n",
       "75037  0.557931  4.967850\n",
       "75038  0.612999  5.186609\n",
       "75039  0.668067  5.433348\n",
       "75040  0.434027  4.475602"
      ]
     },
     "execution_count": 9,
     "metadata": {},
     "output_type": "execute_result"
    }
   ],
   "source": [
    "# create variables to visualize data\n",
    "approved = df[df['loan_status'] == 1][[0,1]]\n",
    "notApproved = df[df['loan_status'] == 0][[0,1]]\n",
    "approved[:5]"
   ]
  },
  {
   "cell_type": "code",
   "execution_count": 10,
   "metadata": {},
   "outputs": [
    {
     "data": {
      "image/png": "[encoded data removed]",
      "text/plain": [
       "<Figure size 432x288 with 1 Axes>"
      ]
     },
     "metadata": {
      "needs_background": "light"
     },
     "output_type": "display_data"
    }
   ],
   "source": [
    "# create visualization to show relationship of created \"income adjusted\" feature to loan amount\n",
    "# I was not succesful in manufacturing a feature that would show a relationship\n",
    "\n",
    "figure1, figure1_axes = plt.subplots()\n",
    "figure1_axes.plot(approved[[0]], approved[[1]], 'go',\n",
    "                  notApproved[[0]], notApproved[[1]], 'ro')\n",
    "figure1_axes.set_xlabel('Borrower Income')\n",
    "figure1_axes.set_ylabel('Loan Amount')\n",
    "figure1_axes.legend(['Approved', 'Not Approved'])\n",
    "figure1_axes.set_title('Determining Loan Status');"
   ]
  },
  {
   "cell_type": "markdown",
   "metadata": {},
   "source": [
    "## Moving ahead with demonstrating use of sci-kit learn, the above exploration shows I was incorrect in my assumption but I am unsure of correct features to pick"
   ]
  },
  {
   "cell_type": "code",
   "execution_count": 11,
   "metadata": {},
   "outputs": [
    {
     "name": "stdout",
     "output_type": "stream",
     "text": [
      "[[52800, 0.431818181818182], [43600, 0.311926605504587], [46100, 0.349240780911063], [52700, 0.430740037950664], [53000, 0.433962264150943]]\n",
      "[0, 0, 0, 0, 0]\n"
     ]
    }
   ],
   "source": [
    "# create empty list\n",
    "feature = []\n",
    "target = []\n",
    "\n",
    "# for loop to create feature lists to add to above created list\n",
    "\n",
    "for i in range(len(lendingDataCSV)):\n",
    "    featureList = []\n",
    "    loanStatus = ''\n",
    "    \n",
    "    loanStatus = lendingDataCSV.iloc[i,7]\n",
    "#     borrower_income\n",
    "    featureList.append(lendingDataCSV.iloc[i,2])\n",
    "#    debt_to_income\n",
    "    featureList.append(lendingDataCSV.iloc[i,3])\n",
    "    \n",
    "    feature.append(featureList)\n",
    "    target.append(loanStatus)\n",
    "    \n",
    "print(feature[:5])\n",
    "print(target[:5])"
   ]
  },
  {
   "cell_type": "code",
   "execution_count": 12,
   "metadata": {},
   "outputs": [],
   "source": [
    "# Split the data into X_train, X_test, y_train, y_test\n",
    "\n",
    "x = np.array(feature)\n",
    "y = np.array(target)\n",
    "x_train, x_test, y_train, y_test = train_test_split(x, y)"
   ]
  },
  {
   "cell_type": "code",
   "execution_count": 13,
   "metadata": {},
   "outputs": [
    {
     "name": "stdout",
     "output_type": "stream",
     "text": [
      "LogisticRegression score:  0.9685307470078415\n"
     ]
    }
   ],
   "source": [
    "# Train a Logistic Regression model print the model score\n",
    "logisticRegr = LogisticRegression(\n",
    "    solver='lbfgs', \n",
    "    max_iter=100,\n",
    "    random_state=0\n",
    ")\n",
    "logisticRegr.fit(x_train, y_train)\n",
    "print(\"LogisticRegression score: \", logisticRegr.score(x_test, y_test))"
   ]
  },
  {
   "cell_type": "code",
   "execution_count": 14,
   "metadata": {},
   "outputs": [
    {
     "name": "stdout",
     "output_type": "stream",
     "text": [
      "RandomForestClassifier score:  0.9938093272802311\n"
     ]
    }
   ],
   "source": [
    "# Train a Random Forest Classifier model and print the model score\n",
    "randomForestClass = RandomForestClassifier(random_state=0)\n",
    "randomForestClass.fit(x_train, y_train)\n",
    "print(\"RandomForestClassifier score: \", randomForestClass.score(x_test, y_test))"
   ]
  },
  {
   "cell_type": "code",
   "execution_count": null,
   "metadata": {},
   "outputs": [],
   "source": []
  },
  {
   "cell_type": "code",
   "execution_count": null,
   "metadata": {},
   "outputs": [],
   "source": []
  },
  {
   "cell_type": "code",
   "execution_count": null,
   "metadata": {},
   "outputs": [],
   "source": []
  }
 ],
 "metadata": {
  "kernelspec": {
   "display_name": "Python 3 (ipykernel)",
   "language": "python",
   "name": "python3"
  },
  "language_info": {
   "codemirror_mode": {
    "name": "ipython",
    "version": 3
   },
   "file_extension": ".py",
   "mimetype": "text/x-python",
   "name": "python",
   "nbconvert_exporter": "python",
   "pygments_lexer": "ipython3",
   "version": "3.9.9"
  }
 },
 "nbformat": 4,
 "nbformat_minor": 4
}
